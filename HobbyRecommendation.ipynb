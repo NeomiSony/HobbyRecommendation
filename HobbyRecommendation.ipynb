{
  "nbformat": 4,
  "nbformat_minor": 0,
  "metadata": {
    "colab": {
      "name": "HobbyRecommendation.ipynb",
      "provenance": [],
      "authorship_tag": "ABX9TyPm9cIfF887H+ht5U4WJVgx",
      "include_colab_link": true
    },
    "kernelspec": {
      "name": "python3",
      "display_name": "Python 3"
    }
  },
  "cells": [
    {
      "cell_type": "markdown",
      "metadata": {
        "id": "view-in-github",
        "colab_type": "text"
      },
      "source": [
        "<a href=\"https://colab.research.google.com/github/NeomiSony/HobbyRecommendation/blob/main/HobbyRecommendation.ipynb\" target=\"_parent\"><img src=\"https://colab.research.google.com/assets/colab-badge.svg\" alt=\"Open In Colab\"/></a>"
      ]
    },
    {
      "cell_type": "code",
      "metadata": {
        "id": "kJ3TNDPfMHfZ"
      },
      "source": [
        "import numpy as np\n",
        "import pandas as pd \n",
        "from pandas import Series, DataFrame\n",
        "\n",
        "import seaborn as sns\n",
        "import matplotlib.pyplot as plt\n",
        "%matplotlib inline"
      ],
      "execution_count": 2,
      "outputs": []
    },
    {
      "cell_type": "code",
      "metadata": {
        "id": "ITqoI4LXL7GP"
      },
      "source": [
        "hb = pd.read_csv(\"Hobby.csv\")"
      ],
      "execution_count": 3,
      "outputs": []
    },
    {
      "cell_type": "code",
      "metadata": {
        "colab": {
          "base_uri": "https://localhost:8080/",
          "height": 258
        },
        "id": "QIvHm-xWMfff",
        "outputId": "9653d736-6e89-43c1-a982-46782d7d876d"
      },
      "source": [
        "hb.head()"
      ],
      "execution_count": 4,
      "outputs": [
        {
          "output_type": "execute_result",
          "data": {
            "text/html": [
              "<div>\n",
              "<style scoped>\n",
              "    .dataframe tbody tr th:only-of-type {\n",
              "        vertical-align: middle;\n",
              "    }\n",
              "\n",
              "    .dataframe tbody tr th {\n",
              "        vertical-align: top;\n",
              "    }\n",
              "\n",
              "    .dataframe thead th {\n",
              "        text-align: right;\n",
              "    }\n",
              "</style>\n",
              "<table border=\"1\" class=\"dataframe\">\n",
              "  <thead>\n",
              "    <tr style=\"text-align: right;\">\n",
              "      <th></th>\n",
              "      <th>Time Management</th>\n",
              "      <th>Listening Skills</th>\n",
              "      <th>Reading comprehension</th>\n",
              "      <th>Attention</th>\n",
              "      <th>Linguistic Intelligence</th>\n",
              "      <th>Bodily kineastic intelligence</th>\n",
              "      <th>Spatial awareness</th>\n",
              "      <th>Creative thinking</th>\n",
              "      <th>Self Confidence</th>\n",
              "      <th>Communication Skills</th>\n",
              "      <th>Hobby</th>\n",
              "    </tr>\n",
              "  </thead>\n",
              "  <tbody>\n",
              "    <tr>\n",
              "      <th>0</th>\n",
              "      <td>1</td>\n",
              "      <td>1</td>\n",
              "      <td>1</td>\n",
              "      <td>1</td>\n",
              "      <td>1</td>\n",
              "      <td>1</td>\n",
              "      <td>7</td>\n",
              "      <td>7</td>\n",
              "      <td>1</td>\n",
              "      <td>1</td>\n",
              "      <td>Photography</td>\n",
              "    </tr>\n",
              "    <tr>\n",
              "      <th>1</th>\n",
              "      <td>2</td>\n",
              "      <td>1</td>\n",
              "      <td>1</td>\n",
              "      <td>1</td>\n",
              "      <td>1</td>\n",
              "      <td>1</td>\n",
              "      <td>8</td>\n",
              "      <td>7</td>\n",
              "      <td>1</td>\n",
              "      <td>1</td>\n",
              "      <td>Photography</td>\n",
              "    </tr>\n",
              "    <tr>\n",
              "      <th>2</th>\n",
              "      <td>3</td>\n",
              "      <td>1</td>\n",
              "      <td>1</td>\n",
              "      <td>1</td>\n",
              "      <td>1</td>\n",
              "      <td>1</td>\n",
              "      <td>9</td>\n",
              "      <td>7</td>\n",
              "      <td>1</td>\n",
              "      <td>1</td>\n",
              "      <td>Photography</td>\n",
              "    </tr>\n",
              "    <tr>\n",
              "      <th>3</th>\n",
              "      <td>4</td>\n",
              "      <td>1</td>\n",
              "      <td>1</td>\n",
              "      <td>1</td>\n",
              "      <td>1</td>\n",
              "      <td>1</td>\n",
              "      <td>10</td>\n",
              "      <td>7</td>\n",
              "      <td>1</td>\n",
              "      <td>1</td>\n",
              "      <td>Photography</td>\n",
              "    </tr>\n",
              "    <tr>\n",
              "      <th>4</th>\n",
              "      <td>1</td>\n",
              "      <td>2</td>\n",
              "      <td>1</td>\n",
              "      <td>1</td>\n",
              "      <td>1</td>\n",
              "      <td>1</td>\n",
              "      <td>7</td>\n",
              "      <td>8</td>\n",
              "      <td>1</td>\n",
              "      <td>1</td>\n",
              "      <td>Photography</td>\n",
              "    </tr>\n",
              "  </tbody>\n",
              "</table>\n",
              "</div>"
            ],
            "text/plain": [
              "   Time Management  Listening Skills  ...  Communication Skills        Hobby\n",
              "0                1                 1  ...                     1  Photography\n",
              "1                2                 1  ...                     1  Photography\n",
              "2                3                 1  ...                     1  Photography\n",
              "3                4                 1  ...                     1  Photography\n",
              "4                1                 2  ...                     1  Photography\n",
              "\n",
              "[5 rows x 11 columns]"
            ]
          },
          "metadata": {
            "tags": []
          },
          "execution_count": 4
        }
      ]
    },
    {
      "cell_type": "code",
      "metadata": {
        "colab": {
          "base_uri": "https://localhost:8080/"
        },
        "id": "EnE6eLMTN6Wz",
        "outputId": "03e4120b-908b-4e61-a846-e05fe090f02f"
      },
      "source": [
        "hb.info()"
      ],
      "execution_count": 5,
      "outputs": [
        {
          "output_type": "stream",
          "text": [
            "<class 'pandas.core.frame.DataFrame'>\n",
            "RangeIndex: 400 entries, 0 to 399\n",
            "Data columns (total 11 columns):\n",
            " #   Column                         Non-Null Count  Dtype \n",
            "---  ------                         --------------  ----- \n",
            " 0   Time Management                400 non-null    int64 \n",
            " 1   Listening Skills               400 non-null    int64 \n",
            " 2   Reading comprehension          400 non-null    int64 \n",
            " 3   Attention                      400 non-null    int64 \n",
            " 4   Linguistic Intelligence        400 non-null    int64 \n",
            " 5   Bodily kineastic intelligence  400 non-null    int64 \n",
            " 6   Spatial awareness              400 non-null    int64 \n",
            " 7   Creative thinking              400 non-null    int64 \n",
            " 8   Self Confidence                400 non-null    int64 \n",
            " 9   Communication Skills           400 non-null    int64 \n",
            " 10  Hobby                          400 non-null    object\n",
            "dtypes: int64(10), object(1)\n",
            "memory usage: 34.5+ KB\n"
          ],
          "name": "stdout"
        }
      ]
    },
    {
      "cell_type": "code",
      "metadata": {
        "id": "dBqFlcjjOTDh"
      },
      "source": [
        "\n",
        "# importing alll the necessary packages to use the various classification algorithms\n",
        "from sklearn.linear_model import LogisticRegression # for Logistic Regression Algorithm\n",
        "from sklearn.model_selection import train_test_split # to split the dataset for training and testing \n",
        "from sklearn.neighbors import KNeighborsClassifier # KNN classifier\n",
        "from sklearn import svm # for suport vector machine algorithm\n",
        "from sklearn import metrics # for checking the model accuracy\n",
        "from sklearn.tree import DecisionTreeClassifier # for using DTA"
      ],
      "execution_count": 6,
      "outputs": []
    },
    {
      "cell_type": "code",
      "metadata": {
        "colab": {
          "base_uri": "https://localhost:8080/"
        },
        "id": "zYClI2afOb8V",
        "outputId": "cdd02cad-8171-4940-c8b4-6934adf1e4b6"
      },
      "source": [
        "hb.shape"
      ],
      "execution_count": 7,
      "outputs": [
        {
          "output_type": "execute_result",
          "data": {
            "text/plain": [
              "(400, 11)"
            ]
          },
          "metadata": {
            "tags": []
          },
          "execution_count": 7
        }
      ]
    },
    {
      "cell_type": "code",
      "metadata": {
        "colab": {
          "base_uri": "https://localhost:8080/",
          "height": 400
        },
        "id": "gKyfTkz8Ogvj",
        "outputId": "2677cbde-69d9-45e7-83b1-efc5dcd230b5"
      },
      "source": [
        "plt.figure(figsize=(8,4))\n",
        "sns.heatmap(hb.corr(), annot=True, cmap='cubehelix_r') # draws heatmap with input as correlation matrix calculated by iris.corr() \n",
        "plt.show()"
      ],
      "execution_count": 8,
      "outputs": [
        {
          "output_type": "display_data",
          "data": {
            "image/png": "[encoded data removed]",
            "text/plain": [
              "<Figure size 576x288 with 2 Axes>"
            ]
          },
          "metadata": {
            "tags": [],
            "needs_background": "light"
          }
        }
      ]
    },
    {
      "cell_type": "code",
      "metadata": {
        "colab": {
          "base_uri": "https://localhost:8080/"
        },
        "id": "wBkkPvKlOwiZ",
        "outputId": "cbd7964a-5130-44e1-b2c5-e0903f9b2143"
      },
      "source": [
        "train, test = train_test_split(hb, test_size=0.3) # our main data split into train and test\n",
        "# the attribute test_size=0.3 splits the data into 70% and 30% ratio. train=70% and test=30%\n",
        "print(train.shape)\n",
        "print(test.shape)"
      ],
      "execution_count": 9,
      "outputs": [
        {
          "output_type": "stream",
          "text": [
            "(280, 11)\n",
            "(120, 11)\n"
          ],
          "name": "stdout"
        }
      ]
    },
    {
      "cell_type": "code",
      "metadata": {
        "id": "JcCJ-9yVO4xz"
      },
      "source": [
        "train_X = train[['Time Management','Listening Skills','Reading comprehension','Attention','Linguistic Intelligence','Bodily kineastic intelligence','Spatial awareness','Creative thinking','Self Confidence','Communication Skills']] # taking the training data features\n",
        "train_y = train.Hobby # output of the training data\n",
        "\n",
        "test_X = test[['Time Management','Listening Skills','Reading comprehension','Attention','Linguistic Intelligence','Bodily kineastic intelligence','Spatial awareness','Creative thinking','Self Confidence','Communication Skills']] # taking test data feature\n",
        "test_y = test.Hobby # output value of the test data"
      ],
      "execution_count": 10,
      "outputs": []
    },
    {
      "cell_type": "code",
      "metadata": {
        "colab": {
          "base_uri": "https://localhost:8080/",
          "height": 258
        },
        "id": "oR7GZLcjPYfT",
        "outputId": "dc6f2575-9776-4071-a209-89d8634f5b90"
      },
      "source": [
        "train_X.head()"
      ],
      "execution_count": 11,
      "outputs": [
        {
          "output_type": "execute_result",
          "data": {
            "text/html": [
              "<div>\n",
              "<style scoped>\n",
              "    .dataframe tbody tr th:only-of-type {\n",
              "        vertical-align: middle;\n",
              "    }\n",
              "\n",
              "    .dataframe tbody tr th {\n",
              "        vertical-align: top;\n",
              "    }\n",
              "\n",
              "    .dataframe thead th {\n",
              "        text-align: right;\n",
              "    }\n",
              "</style>\n",
              "<table border=\"1\" class=\"dataframe\">\n",
              "  <thead>\n",
              "    <tr style=\"text-align: right;\">\n",
              "      <th></th>\n",
              "      <th>Time Management</th>\n",
              "      <th>Listening Skills</th>\n",
              "      <th>Reading comprehension</th>\n",
              "      <th>Attention</th>\n",
              "      <th>Linguistic Intelligence</th>\n",
              "      <th>Bodily kineastic intelligence</th>\n",
              "      <th>Spatial awareness</th>\n",
              "      <th>Creative thinking</th>\n",
              "      <th>Self Confidence</th>\n",
              "      <th>Communication Skills</th>\n",
              "    </tr>\n",
              "  </thead>\n",
              "  <tbody>\n",
              "    <tr>\n",
              "      <th>142</th>\n",
              "      <td>3</td>\n",
              "      <td>3</td>\n",
              "      <td>3</td>\n",
              "      <td>5</td>\n",
              "      <td>1</td>\n",
              "      <td>9</td>\n",
              "      <td>9</td>\n",
              "      <td>1</td>\n",
              "      <td>1</td>\n",
              "      <td>1</td>\n",
              "    </tr>\n",
              "    <tr>\n",
              "      <th>202</th>\n",
              "      <td>3</td>\n",
              "      <td>1</td>\n",
              "      <td>1</td>\n",
              "      <td>1</td>\n",
              "      <td>1</td>\n",
              "      <td>9</td>\n",
              "      <td>1</td>\n",
              "      <td>5</td>\n",
              "      <td>7</td>\n",
              "      <td>7</td>\n",
              "    </tr>\n",
              "    <tr>\n",
              "      <th>271</th>\n",
              "      <td>4</td>\n",
              "      <td>2</td>\n",
              "      <td>1</td>\n",
              "      <td>2</td>\n",
              "      <td>1</td>\n",
              "      <td>10</td>\n",
              "      <td>1</td>\n",
              "      <td>6</td>\n",
              "      <td>10</td>\n",
              "      <td>8</td>\n",
              "    </tr>\n",
              "    <tr>\n",
              "      <th>313</th>\n",
              "      <td>6</td>\n",
              "      <td>8</td>\n",
              "      <td>10</td>\n",
              "      <td>5</td>\n",
              "      <td>7</td>\n",
              "      <td>2</td>\n",
              "      <td>4</td>\n",
              "      <td>1</td>\n",
              "      <td>1</td>\n",
              "      <td>1</td>\n",
              "    </tr>\n",
              "    <tr>\n",
              "      <th>314</th>\n",
              "      <td>5</td>\n",
              "      <td>9</td>\n",
              "      <td>10</td>\n",
              "      <td>6</td>\n",
              "      <td>7</td>\n",
              "      <td>3</td>\n",
              "      <td>4</td>\n",
              "      <td>1</td>\n",
              "      <td>1</td>\n",
              "      <td>1</td>\n",
              "    </tr>\n",
              "  </tbody>\n",
              "</table>\n",
              "</div>"
            ],
            "text/plain": [
              "     Time Management  Listening Skills  ...  Self Confidence  Communication Skills\n",
              "142                3                 3  ...                1                     1\n",
              "202                3                 1  ...                7                     7\n",
              "271                4                 2  ...               10                     8\n",
              "313                6                 8  ...                1                     1\n",
              "314                5                 9  ...                1                     1\n",
              "\n",
              "[5 rows x 10 columns]"
            ]
          },
          "metadata": {
            "tags": []
          },
          "execution_count": 11
        }
      ]
    },
    {
      "cell_type": "code",
      "metadata": {
        "colab": {
          "base_uri": "https://localhost:8080/",
          "height": 258
        },
        "id": "YDr5tqjmPdbW",
        "outputId": "69020b85-fd97-4b16-dc1f-44444628810f"
      },
      "source": [
        "test_X.head()"
      ],
      "execution_count": 12,
      "outputs": [
        {
          "output_type": "execute_result",
          "data": {
            "text/html": [
              "<div>\n",
              "<style scoped>\n",
              "    .dataframe tbody tr th:only-of-type {\n",
              "        vertical-align: middle;\n",
              "    }\n",
              "\n",
              "    .dataframe tbody tr th {\n",
              "        vertical-align: top;\n",
              "    }\n",
              "\n",
              "    .dataframe thead th {\n",
              "        text-align: right;\n",
              "    }\n",
              "</style>\n",
              "<table border=\"1\" class=\"dataframe\">\n",
              "  <thead>\n",
              "    <tr style=\"text-align: right;\">\n",
              "      <th></th>\n",
              "      <th>Time Management</th>\n",
              "      <th>Listening Skills</th>\n",
              "      <th>Reading comprehension</th>\n",
              "      <th>Attention</th>\n",
              "      <th>Linguistic Intelligence</th>\n",
              "      <th>Bodily kineastic intelligence</th>\n",
              "      <th>Spatial awareness</th>\n",
              "      <th>Creative thinking</th>\n",
              "      <th>Self Confidence</th>\n",
              "      <th>Communication Skills</th>\n",
              "    </tr>\n",
              "  </thead>\n",
              "  <tbody>\n",
              "    <tr>\n",
              "      <th>326</th>\n",
              "      <td>5</td>\n",
              "      <td>9</td>\n",
              "      <td>9</td>\n",
              "      <td>6</td>\n",
              "      <td>8</td>\n",
              "      <td>3</td>\n",
              "      <td>3</td>\n",
              "      <td>2</td>\n",
              "      <td>1</td>\n",
              "      <td>1</td>\n",
              "    </tr>\n",
              "    <tr>\n",
              "      <th>325</th>\n",
              "      <td>6</td>\n",
              "      <td>8</td>\n",
              "      <td>9</td>\n",
              "      <td>5</td>\n",
              "      <td>8</td>\n",
              "      <td>2</td>\n",
              "      <td>3</td>\n",
              "      <td>2</td>\n",
              "      <td>1</td>\n",
              "      <td>1</td>\n",
              "    </tr>\n",
              "    <tr>\n",
              "      <th>376</th>\n",
              "      <td>5</td>\n",
              "      <td>7</td>\n",
              "      <td>10</td>\n",
              "      <td>5</td>\n",
              "      <td>7</td>\n",
              "      <td>1</td>\n",
              "      <td>4</td>\n",
              "      <td>1</td>\n",
              "      <td>2</td>\n",
              "      <td>1</td>\n",
              "    </tr>\n",
              "    <tr>\n",
              "      <th>264</th>\n",
              "      <td>1</td>\n",
              "      <td>1</td>\n",
              "      <td>1</td>\n",
              "      <td>2</td>\n",
              "      <td>1</td>\n",
              "      <td>7</td>\n",
              "      <td>1</td>\n",
              "      <td>5</td>\n",
              "      <td>9</td>\n",
              "      <td>7</td>\n",
              "    </tr>\n",
              "    <tr>\n",
              "      <th>333</th>\n",
              "      <td>6</td>\n",
              "      <td>8</td>\n",
              "      <td>7</td>\n",
              "      <td>5</td>\n",
              "      <td>9</td>\n",
              "      <td>2</td>\n",
              "      <td>1</td>\n",
              "      <td>3</td>\n",
              "      <td>1</td>\n",
              "      <td>1</td>\n",
              "    </tr>\n",
              "  </tbody>\n",
              "</table>\n",
              "</div>"
            ],
            "text/plain": [
              "     Time Management  Listening Skills  ...  Self Confidence  Communication Skills\n",
              "326                5                 9  ...                1                     1\n",
              "325                6                 8  ...                1                     1\n",
              "376                5                 7  ...                2                     1\n",
              "264                1                 1  ...                9                     7\n",
              "333                6                 8  ...                1                     1\n",
              "\n",
              "[5 rows x 10 columns]"
            ]
          },
          "metadata": {
            "tags": []
          },
          "execution_count": 12
        }
      ]
    },
    {
      "cell_type": "code",
      "metadata": {
        "colab": {
          "base_uri": "https://localhost:8080/"
        },
        "id": "c7-7cg2XPfqP",
        "outputId": "a69e671b-a0e5-49ec-96b0-6046e7c48842"
      },
      "source": [
        "train_y.head()"
      ],
      "execution_count": 13,
      "outputs": [
        {
          "output_type": "execute_result",
          "data": {
            "text/plain": [
              "142                Dance\n",
              "202               Acting\n",
              "271               Acting\n",
              "313    Language Learning\n",
              "314    Language Learning\n",
              "Name: Hobby, dtype: object"
            ]
          },
          "metadata": {
            "tags": []
          },
          "execution_count": 13
        }
      ]
    },
    {
      "cell_type": "code",
      "metadata": {
        "colab": {
          "base_uri": "https://localhost:8080/"
        },
        "id": "LMECbykkPlnE",
        "outputId": "aa6e16e9-9e07-428b-8f25-50219fea6a3e"
      },
      "source": [
        "model = svm.SVC() # select the svm algorithm\n",
        "\n",
        "# we train the algorithm with training data and training output\n",
        "model.fit(train_X, train_y)\n",
        "\n",
        "# we pass the testing data to the stored algorithm to predict the outcome\n",
        "prediction = model.predict(test_X)\n",
        "print('The accuracy of the SVM is: ', metrics.accuracy_score(prediction, test_y)) # we check the accuracy of the algorithm\n",
        "#we pass the predicted output by the model and the actual output"
      ],
      "execution_count": 14,
      "outputs": [
        {
          "output_type": "stream",
          "text": [
            "The accuracy of the SVM is:  1.0\n"
          ],
          "name": "stdout"
        }
      ]
    },
    {
      "cell_type": "code",
      "metadata": {
        "colab": {
          "base_uri": "https://localhost:8080/"
        },
        "id": "ceyPXsGXSMx0",
        "outputId": "f75949cc-ee3d-471d-c775-0954f2673ea8"
      },
      "source": [
        "new_input = [[2,2,3,6,2,9,9,2,2,3]]\n",
        "# get prediction for new input\n",
        "new_output = model.predict(new_input)\n",
        "print(new_output)"
      ],
      "execution_count": 15,
      "outputs": [
        {
          "output_type": "stream",
          "text": [
            "['Dance']\n"
          ],
          "name": "stdout"
        }
      ]
    },
    {
      "cell_type": "code",
      "metadata": {
        "id": "OXi6mP9BQLIg",
        "outputId": "ecbcbcae-d4ec-4c25-8044-6cdd4f4e5920",
        "colab": {
          "base_uri": "https://localhost:8080/"
        }
      },
      "source": [
        "new_input = [[2,2,3,3,2,4,7,10,2,3]]\n",
        "# get prediction for new input\n",
        "new_output = model.predict(new_input)\n",
        "print(new_output)"
      ],
      "execution_count": 19,
      "outputs": [
        {
          "output_type": "stream",
          "text": [
            "['Photography']\n"
          ],
          "name": "stdout"
        }
      ]
    },
    {
      "cell_type": "code",
      "metadata": {
        "colab": {
          "base_uri": "https://localhost:8080/"
        },
        "id": "WngSxH-7PvgY",
        "outputId": "02a2ca5c-4412-4932-e8f8-1ca5af32159b"
      },
      "source": [
        "model = LogisticRegression()\n",
        "model.fit(train_X, train_y)\n",
        "prediction = model.predict(test_X)\n",
        "print('The accuracy of Logistic Regression is: ', metrics.accuracy_score(prediction, test_y))"
      ],
      "execution_count": 16,
      "outputs": [
        {
          "output_type": "stream",
          "text": [
            "The accuracy of Logistic Regression is:  1.0\n"
          ],
          "name": "stdout"
        }
      ]
    },
    {
      "cell_type": "code",
      "metadata": {
        "colab": {
          "base_uri": "https://localhost:8080/"
        },
        "id": "u5Mt9uUZPzxP",
        "outputId": "103ce64b-ccd0-4c66-ec3b-6f87ec781945"
      },
      "source": [
        "model = DecisionTreeClassifier()\n",
        "model.fit(train_X, train_y)\n",
        "prediction = model.predict(test_X)\n",
        "print('The accuracy of Decision Tree is: ', metrics.accuracy_score(prediction, test_y))"
      ],
      "execution_count": 17,
      "outputs": [
        {
          "output_type": "stream",
          "text": [
            "The accuracy of Decision Tree is:  1.0\n"
          ],
          "name": "stdout"
        }
      ]
    },
    {
      "cell_type": "code",
      "metadata": {
        "colab": {
          "base_uri": "https://localhost:8080/"
        },
        "id": "_92R65ocP46e",
        "outputId": "e34c8f6a-6be7-43ff-ff0a-60daf55af264"
      },
      "source": [
        "model = KNeighborsClassifier(n_neighbors=3) # this examines 3 neighbors for putting the data into class\n",
        "model.fit(train_X, train_y)\n",
        "prediction = model.predict(test_X)\n",
        "print('The accuracy of KNN is: ', metrics.accuracy_score(prediction, test_y))"
      ],
      "execution_count": 18,
      "outputs": [
        {
          "output_type": "stream",
          "text": [
            "The accuracy of KNN is:  1.0\n"
          ],
          "name": "stdout"
        }
      ]
    }
  ]
}