{
  "nbformat": 4,
  "nbformat_minor": 0,
  "metadata": {
    "colab": {
      "name": "HobbyRecommendation.ipynb",
      "provenance": [],
      "authorship_tag": "ABX9TyO4JWaU0rGh3S0JluBckQie",
      "include_colab_link": true
    },
    "kernelspec": {
      "name": "python3",
      "display_name": "Python 3"
    }
  },
  "cells": [
    {
      "cell_type": "markdown",
      "metadata": {
        "id": "view-in-github",
        "colab_type": "text"
      },
      "source": [
        "<a href=\"https://colab.research.google.com/github/NeomiSony/HobbyRecommendation/blob/main/HobbyRecommendation.ipynb\" target=\"_parent\"><img src=\"https://colab.research.google.com/assets/colab-badge.svg\" alt=\"Open In Colab\"/></a>"
      ]
    },
    {
      "cell_type": "code",
      "metadata": {
        "id": "kJ3TNDPfMHfZ"
      },
      "source": [
        "import numpy as np\r\n",
        "import pandas as pd \r\n",
        "from pandas import Series, DataFrame\r\n",
        "\r\n",
        "import seaborn as sns\r\n",
        "import matplotlib.pyplot as plt\r\n",
        "%matplotlib inline"
      ],
      "execution_count": 9,
      "outputs": []
    },
    {
      "cell_type": "code",
      "metadata": {
        "id": "ITqoI4LXL7GP"
      },
      "source": [
        "hb = pd.read_csv(\"Hobby.csv\")"
      ],
      "execution_count": 10,
      "outputs": []
    },
    {
      "cell_type": "code",
      "metadata": {
        "colab": {
          "base_uri": "https://localhost:8080/",
          "height": 292
        },
        "id": "QIvHm-xWMfff",
        "outputId": "9c66763d-1d62-4ca7-ef10-a3cefbea2840"
      },
      "source": [
        "hb.head()"
      ],
      "execution_count": 11,
      "outputs": [
        {
          "output_type": "execute_result",
          "data": {
            "text/html": [
              "<div>\n",
              "<style scoped>\n",
              "    .dataframe tbody tr th:only-of-type {\n",
              "        vertical-align: middle;\n",
              "    }\n",
              "\n",
              "    .dataframe tbody tr th {\n",
              "        vertical-align: top;\n",
              "    }\n",
              "\n",
              "    .dataframe thead th {\n",
              "        text-align: right;\n",
              "    }\n",
              "</style>\n",
              "<table border=\"1\" class=\"dataframe\">\n",
              "  <thead>\n",
              "    <tr style=\"text-align: right;\">\n",
              "      <th></th>\n",
              "      <th>Time Management</th>\n",
              "      <th>Listening Skills</th>\n",
              "      <th>Reading comprehension</th>\n",
              "      <th>Attention</th>\n",
              "      <th>Linguistic Intelligence</th>\n",
              "      <th>Bodily kineastic intelligence</th>\n",
              "      <th>Spatial awareness</th>\n",
              "      <th>Creative thinking</th>\n",
              "      <th>Self Confidence</th>\n",
              "      <th>Communication Skills</th>\n",
              "      <th>Hobby</th>\n",
              "    </tr>\n",
              "  </thead>\n",
              "  <tbody>\n",
              "    <tr>\n",
              "      <th>0</th>\n",
              "      <td>5</td>\n",
              "      <td>8</td>\n",
              "      <td>8</td>\n",
              "      <td>6</td>\n",
              "      <td>8</td>\n",
              "      <td>1</td>\n",
              "      <td>2</td>\n",
              "      <td>1</td>\n",
              "      <td>2</td>\n",
              "      <td>1</td>\n",
              "      <td>Language Learning</td>\n",
              "    </tr>\n",
              "    <tr>\n",
              "      <th>1</th>\n",
              "      <td>6</td>\n",
              "      <td>9</td>\n",
              "      <td>9</td>\n",
              "      <td>5</td>\n",
              "      <td>9</td>\n",
              "      <td>2</td>\n",
              "      <td>1</td>\n",
              "      <td>3</td>\n",
              "      <td>1</td>\n",
              "      <td>2</td>\n",
              "      <td>Language Learning</td>\n",
              "    </tr>\n",
              "    <tr>\n",
              "      <th>2</th>\n",
              "      <td>1</td>\n",
              "      <td>1</td>\n",
              "      <td>1</td>\n",
              "      <td>7</td>\n",
              "      <td>1</td>\n",
              "      <td>8</td>\n",
              "      <td>8</td>\n",
              "      <td>1</td>\n",
              "      <td>1</td>\n",
              "      <td>1</td>\n",
              "      <td>Dance</td>\n",
              "    </tr>\n",
              "    <tr>\n",
              "      <th>3</th>\n",
              "      <td>2</td>\n",
              "      <td>2</td>\n",
              "      <td>3</td>\n",
              "      <td>6</td>\n",
              "      <td>2</td>\n",
              "      <td>9</td>\n",
              "      <td>9</td>\n",
              "      <td>2</td>\n",
              "      <td>2</td>\n",
              "      <td>3</td>\n",
              "      <td>Dance</td>\n",
              "    </tr>\n",
              "    <tr>\n",
              "      <th>4</th>\n",
              "      <td>1</td>\n",
              "      <td>1</td>\n",
              "      <td>1</td>\n",
              "      <td>1</td>\n",
              "      <td>1</td>\n",
              "      <td>1</td>\n",
              "      <td>8</td>\n",
              "      <td>8</td>\n",
              "      <td>1</td>\n",
              "      <td>1</td>\n",
              "      <td>Photography</td>\n",
              "    </tr>\n",
              "  </tbody>\n",
              "</table>\n",
              "</div>"
            ],
            "text/plain": [
              "   Time Management  Listening Skills  ...  Communication Skills              Hobby\n",
              "0                5                 8  ...                     1  Language Learning\n",
              "1                6                 9  ...                     2  Language Learning\n",
              "2                1                 1  ...                     1              Dance\n",
              "3                2                 2  ...                     3              Dance\n",
              "4                1                 1  ...                     1        Photography\n",
              "\n",
              "[5 rows x 11 columns]"
            ]
          },
          "metadata": {
            "tags": []
          },
          "execution_count": 11
        }
      ]
    },
    {
      "cell_type": "code",
      "metadata": {
        "colab": {
          "base_uri": "https://localhost:8080/"
        },
        "id": "EnE6eLMTN6Wz",
        "outputId": "7936d885-055e-473c-c651-4914fe695784"
      },
      "source": [
        "hb.info()"
      ],
      "execution_count": 12,
      "outputs": [
        {
          "output_type": "stream",
          "text": [
            "<class 'pandas.core.frame.DataFrame'>\n",
            "RangeIndex: 8 entries, 0 to 7\n",
            "Data columns (total 11 columns):\n",
            " #   Column                         Non-Null Count  Dtype \n",
            "---  ------                         --------------  ----- \n",
            " 0   Time Management                8 non-null      int64 \n",
            " 1   Listening Skills               8 non-null      int64 \n",
            " 2   Reading comprehension          8 non-null      int64 \n",
            " 3   Attention                      8 non-null      int64 \n",
            " 4   Linguistic Intelligence        8 non-null      int64 \n",
            " 5   Bodily kineastic intelligence  8 non-null      int64 \n",
            " 6   Spatial awareness              8 non-null      int64 \n",
            " 7   Creative thinking              8 non-null      int64 \n",
            " 8   Self Confidence                8 non-null      int64 \n",
            " 9   Communication Skills           8 non-null      int64 \n",
            " 10  Hobby                          8 non-null      object\n",
            "dtypes: int64(10), object(1)\n",
            "memory usage: 832.0+ bytes\n"
          ],
          "name": "stdout"
        }
      ]
    },
    {
      "cell_type": "code",
      "metadata": {
        "id": "dBqFlcjjOTDh"
      },
      "source": [
        "\r\n",
        "# importing alll the necessary packages to use the various classification algorithms\r\n",
        "from sklearn.linear_model import LogisticRegression # for Logistic Regression Algorithm\r\n",
        "from sklearn.model_selection import train_test_split # to split the dataset for training and testing \r\n",
        "from sklearn.neighbors import KNeighborsClassifier # KNN classifier\r\n",
        "from sklearn import svm # for suport vector machine algorithm\r\n",
        "from sklearn import metrics # for checking the model accuracy\r\n",
        "from sklearn.tree import DecisionTreeClassifier # for using DTA"
      ],
      "execution_count": 14,
      "outputs": []
    },
    {
      "cell_type": "code",
      "metadata": {
        "colab": {
          "base_uri": "https://localhost:8080/"
        },
        "id": "zYClI2afOb8V",
        "outputId": "8999c39f-84aa-45e4-e803-78c7d6f3bfe8"
      },
      "source": [
        "hb.shape"
      ],
      "execution_count": 15,
      "outputs": [
        {
          "output_type": "execute_result",
          "data": {
            "text/plain": [
              "(8, 11)"
            ]
          },
          "metadata": {
            "tags": []
          },
          "execution_count": 15
        }
      ]
    },
    {
      "cell_type": "code",
      "metadata": {
        "colab": {
          "base_uri": "https://localhost:8080/",
          "height": 400
        },
        "id": "gKyfTkz8Ogvj",
        "outputId": "e78f66e0-d505-4296-955b-051a6d72eb42"
      },
      "source": [
        "plt.figure(figsize=(8,4))\r\n",
        "sns.heatmap(hb.corr(), annot=True, cmap='cubehelix_r') # draws heatmap with input as correlation matrix calculated by iris.corr() \r\n",
        "plt.show()"
      ],
      "execution_count": 16,
      "outputs": [
        {
          "output_type": "display_data",
          "data": {
            "image/png": "[encoded data removed]",
            "text/plain": [
              "<Figure size 576x288 with 2 Axes>"
            ]
          },
          "metadata": {
            "tags": [],
            "needs_background": "light"
          }
        }
      ]
    },
    {
      "cell_type": "code",
      "metadata": {
        "colab": {
          "base_uri": "https://localhost:8080/"
        },
        "id": "wBkkPvKlOwiZ",
        "outputId": "fc6826f6-06b4-4a45-cfd5-e5f8c742094b"
      },
      "source": [
        "train, test = train_test_split(hb, test_size=0.3) # our main data split into train and test\r\n",
        "# the attribute test_size=0.3 splits the data into 70% and 30% ratio. train=70% and test=30%\r\n",
        "print(train.shape)\r\n",
        "print(test.shape)"
      ],
      "execution_count": 18,
      "outputs": [
        {
          "output_type": "stream",
          "text": [
            "(5, 11)\n",
            "(3, 11)\n"
          ],
          "name": "stdout"
        }
      ]
    },
    {
      "cell_type": "code",
      "metadata": {
        "id": "JcCJ-9yVO4xz"
      },
      "source": [
        "train_X = train[['Time Management','Listening Skills','Reading comprehension','Attention','Linguistic Intelligence','Bodily kineastic intelligence','Spatial awareness','Creative thinking','Self Confidence','Communication Skills']] # taking the training data features\r\n",
        "train_y = train.Hobby # output of the training data\r\n",
        "\r\n",
        "test_X = test[['Time Management','Listening Skills','Reading comprehension','Attention','Linguistic Intelligence','Bodily kineastic intelligence','Spatial awareness','Creative thinking','Self Confidence','Communication Skills']] # taking test data feature\r\n",
        "test_y = test.Hobby # output value of the test data"
      ],
      "execution_count": 28,
      "outputs": []
    },
    {
      "cell_type": "code",
      "metadata": {
        "colab": {
          "base_uri": "https://localhost:8080/",
          "height": 258
        },
        "id": "oR7GZLcjPYfT",
        "outputId": "dcdf5a28-50e1-4dad-a356-e8bffe8e1574"
      },
      "source": [
        "train_X.head()"
      ],
      "execution_count": 20,
      "outputs": [
        {
          "output_type": "execute_result",
          "data": {
            "text/html": [
              "<div>\n",
              "<style scoped>\n",
              "    .dataframe tbody tr th:only-of-type {\n",
              "        vertical-align: middle;\n",
              "    }\n",
              "\n",
              "    .dataframe tbody tr th {\n",
              "        vertical-align: top;\n",
              "    }\n",
              "\n",
              "    .dataframe thead th {\n",
              "        text-align: right;\n",
              "    }\n",
              "</style>\n",
              "<table border=\"1\" class=\"dataframe\">\n",
              "  <thead>\n",
              "    <tr style=\"text-align: right;\">\n",
              "      <th></th>\n",
              "      <th>Time Management</th>\n",
              "      <th>Listening Skills</th>\n",
              "      <th>Reading comprehension</th>\n",
              "      <th>Attention</th>\n",
              "      <th>Linguistic Intelligence</th>\n",
              "      <th>Bodily kineastic intelligence</th>\n",
              "      <th>Spatial awareness</th>\n",
              "      <th>Creative thinking</th>\n",
              "      <th>Self Confidence</th>\n",
              "      <th>Communication Skills</th>\n",
              "    </tr>\n",
              "  </thead>\n",
              "  <tbody>\n",
              "    <tr>\n",
              "      <th>2</th>\n",
              "      <td>1</td>\n",
              "      <td>1</td>\n",
              "      <td>1</td>\n",
              "      <td>7</td>\n",
              "      <td>1</td>\n",
              "      <td>8</td>\n",
              "      <td>8</td>\n",
              "      <td>1</td>\n",
              "      <td>1</td>\n",
              "      <td>1</td>\n",
              "    </tr>\n",
              "    <tr>\n",
              "      <th>7</th>\n",
              "      <td>2</td>\n",
              "      <td>1</td>\n",
              "      <td>3</td>\n",
              "      <td>2</td>\n",
              "      <td>2</td>\n",
              "      <td>9</td>\n",
              "      <td>2</td>\n",
              "      <td>5</td>\n",
              "      <td>6</td>\n",
              "      <td>9</td>\n",
              "    </tr>\n",
              "    <tr>\n",
              "      <th>0</th>\n",
              "      <td>5</td>\n",
              "      <td>8</td>\n",
              "      <td>8</td>\n",
              "      <td>6</td>\n",
              "      <td>8</td>\n",
              "      <td>1</td>\n",
              "      <td>2</td>\n",
              "      <td>1</td>\n",
              "      <td>2</td>\n",
              "      <td>1</td>\n",
              "    </tr>\n",
              "    <tr>\n",
              "      <th>5</th>\n",
              "      <td>2</td>\n",
              "      <td>1</td>\n",
              "      <td>2</td>\n",
              "      <td>3</td>\n",
              "      <td>1</td>\n",
              "      <td>2</td>\n",
              "      <td>9</td>\n",
              "      <td>9</td>\n",
              "      <td>2</td>\n",
              "      <td>3</td>\n",
              "    </tr>\n",
              "    <tr>\n",
              "      <th>4</th>\n",
              "      <td>1</td>\n",
              "      <td>1</td>\n",
              "      <td>1</td>\n",
              "      <td>1</td>\n",
              "      <td>1</td>\n",
              "      <td>1</td>\n",
              "      <td>8</td>\n",
              "      <td>8</td>\n",
              "      <td>1</td>\n",
              "      <td>1</td>\n",
              "    </tr>\n",
              "  </tbody>\n",
              "</table>\n",
              "</div>"
            ],
            "text/plain": [
              "   Time Management  Listening Skills  ...  Self Confidence  Communication Skills\n",
              "2                1                 1  ...                1                     1\n",
              "7                2                 1  ...                6                     9\n",
              "0                5                 8  ...                2                     1\n",
              "5                2                 1  ...                2                     3\n",
              "4                1                 1  ...                1                     1\n",
              "\n",
              "[5 rows x 10 columns]"
            ]
          },
          "metadata": {
            "tags": []
          },
          "execution_count": 20
        }
      ]
    },
    {
      "cell_type": "code",
      "metadata": {
        "colab": {
          "base_uri": "https://localhost:8080/",
          "height": 196
        },
        "id": "YDr5tqjmPdbW",
        "outputId": "95db5cca-0c8f-4b87-b7f4-f4f262e3ff03"
      },
      "source": [
        "test_X.head()"
      ],
      "execution_count": 21,
      "outputs": [
        {
          "output_type": "execute_result",
          "data": {
            "text/html": [
              "<div>\n",
              "<style scoped>\n",
              "    .dataframe tbody tr th:only-of-type {\n",
              "        vertical-align: middle;\n",
              "    }\n",
              "\n",
              "    .dataframe tbody tr th {\n",
              "        vertical-align: top;\n",
              "    }\n",
              "\n",
              "    .dataframe thead th {\n",
              "        text-align: right;\n",
              "    }\n",
              "</style>\n",
              "<table border=\"1\" class=\"dataframe\">\n",
              "  <thead>\n",
              "    <tr style=\"text-align: right;\">\n",
              "      <th></th>\n",
              "      <th>Time Management</th>\n",
              "      <th>Listening Skills</th>\n",
              "      <th>Reading comprehension</th>\n",
              "      <th>Attention</th>\n",
              "      <th>Linguistic Intelligence</th>\n",
              "      <th>Bodily kineastic intelligence</th>\n",
              "      <th>Spatial awareness</th>\n",
              "      <th>Creative thinking</th>\n",
              "      <th>Self Confidence</th>\n",
              "      <th>Communication Skills</th>\n",
              "    </tr>\n",
              "  </thead>\n",
              "  <tbody>\n",
              "    <tr>\n",
              "      <th>3</th>\n",
              "      <td>2</td>\n",
              "      <td>2</td>\n",
              "      <td>3</td>\n",
              "      <td>6</td>\n",
              "      <td>2</td>\n",
              "      <td>9</td>\n",
              "      <td>9</td>\n",
              "      <td>2</td>\n",
              "      <td>2</td>\n",
              "      <td>3</td>\n",
              "    </tr>\n",
              "    <tr>\n",
              "      <th>6</th>\n",
              "      <td>1</td>\n",
              "      <td>1</td>\n",
              "      <td>1</td>\n",
              "      <td>1</td>\n",
              "      <td>1</td>\n",
              "      <td>8</td>\n",
              "      <td>1</td>\n",
              "      <td>6</td>\n",
              "      <td>7</td>\n",
              "      <td>8</td>\n",
              "    </tr>\n",
              "    <tr>\n",
              "      <th>1</th>\n",
              "      <td>6</td>\n",
              "      <td>9</td>\n",
              "      <td>9</td>\n",
              "      <td>5</td>\n",
              "      <td>9</td>\n",
              "      <td>2</td>\n",
              "      <td>1</td>\n",
              "      <td>3</td>\n",
              "      <td>1</td>\n",
              "      <td>2</td>\n",
              "    </tr>\n",
              "  </tbody>\n",
              "</table>\n",
              "</div>"
            ],
            "text/plain": [
              "   Time Management  Listening Skills  ...  Self Confidence  Communication Skills\n",
              "3                2                 2  ...                2                     3\n",
              "6                1                 1  ...                7                     8\n",
              "1                6                 9  ...                1                     2\n",
              "\n",
              "[3 rows x 10 columns]"
            ]
          },
          "metadata": {
            "tags": []
          },
          "execution_count": 21
        }
      ]
    },
    {
      "cell_type": "code",
      "metadata": {
        "colab": {
          "base_uri": "https://localhost:8080/"
        },
        "id": "c7-7cg2XPfqP",
        "outputId": "a2211da3-e1cf-4f88-8905-d3804a60cb40"
      },
      "source": [
        "train_y.head()"
      ],
      "execution_count": 22,
      "outputs": [
        {
          "output_type": "execute_result",
          "data": {
            "text/plain": [
              "2                Dance\n",
              "7               Acting\n",
              "0    Language Learning\n",
              "5          Photography\n",
              "4          Photography\n",
              "Name: Hobby, dtype: object"
            ]
          },
          "metadata": {
            "tags": []
          },
          "execution_count": 22
        }
      ]
    },
    {
      "cell_type": "code",
      "metadata": {
        "colab": {
          "base_uri": "https://localhost:8080/"
        },
        "id": "LMECbykkPlnE",
        "outputId": "ff34be38-3b3b-46e3-d83f-835aafe6f8d2"
      },
      "source": [
        "model = svm.SVC() # select the svm algorithm\r\n",
        "\r\n",
        "# we train the algorithm with training data and training output\r\n",
        "model.fit(train_X, train_y)\r\n",
        "\r\n",
        "# we pass the testing data to the stored algorithm to predict the outcome\r\n",
        "prediction = model.predict(test_X)\r\n",
        "print('The accuracy of the SVM is: ', metrics.accuracy_score(prediction, test_y)) # we check the accuracy of the algorithm\r\n",
        "#we pass the predicted output by the model and the actual output"
      ],
      "execution_count": 23,
      "outputs": [
        {
          "output_type": "stream",
          "text": [
            "The accuracy of the SVM is:  1.0\n"
          ],
          "name": "stdout"
        }
      ]
    },
    {
      "cell_type": "code",
      "metadata": {
        "colab": {
          "base_uri": "https://localhost:8080/"
        },
        "id": "ceyPXsGXSMx0",
        "outputId": "67dc32bd-8c47-4ff4-959f-679d04b14061"
      },
      "source": [
        "new_input = [[2,2,3,6,2,9,9,2,2,3]]\r\n",
        "# get prediction for new input\r\n",
        "new_output = model.predict(new_input)\r\n",
        "print(new_output)"
      ],
      "execution_count": 32,
      "outputs": [
        {
          "output_type": "stream",
          "text": [
            "['Acting']\n"
          ],
          "name": "stdout"
        }
      ]
    },
    {
      "cell_type": "code",
      "metadata": {
        "colab": {
          "base_uri": "https://localhost:8080/"
        },
        "id": "WngSxH-7PvgY",
        "outputId": "fbdce587-ebc5-49aa-ac37-a0fd54c0441d"
      },
      "source": [
        "model = LogisticRegression()\r\n",
        "model.fit(train_X, train_y)\r\n",
        "prediction = model.predict(test_X)\r\n",
        "print('The accuracy of Logistic Regression is: ', metrics.accuracy_score(prediction, test_y))"
      ],
      "execution_count": 24,
      "outputs": [
        {
          "output_type": "stream",
          "text": [
            "The accuracy of Logistic Regression is:  1.0\n"
          ],
          "name": "stdout"
        }
      ]
    },
    {
      "cell_type": "code",
      "metadata": {
        "colab": {
          "base_uri": "https://localhost:8080/"
        },
        "id": "u5Mt9uUZPzxP",
        "outputId": "b42b1591-dee2-4c88-86ea-45f32a25fab7"
      },
      "source": [
        "model = DecisionTreeClassifier()\r\n",
        "model.fit(train_X, train_y)\r\n",
        "prediction = model.predict(test_X)\r\n",
        "print('The accuracy of Decision Tree is: ', metrics.accuracy_score(prediction, test_y))"
      ],
      "execution_count": 25,
      "outputs": [
        {
          "output_type": "stream",
          "text": [
            "The accuracy of Decision Tree is:  0.3333333333333333\n"
          ],
          "name": "stdout"
        }
      ]
    },
    {
      "cell_type": "code",
      "metadata": {
        "colab": {
          "base_uri": "https://localhost:8080/"
        },
        "id": "_92R65ocP46e",
        "outputId": "60c43790-0401-49e6-afa8-e02f10e14b4c"
      },
      "source": [
        "model = KNeighborsClassifier(n_neighbors=3) # this examines 3 neighbors for putting the data into class\r\n",
        "model.fit(train_X, train_y)\r\n",
        "prediction = model.predict(test_X)\r\n",
        "print('The accuracy of KNN is: ', metrics.accuracy_score(prediction, test_y))"
      ],
      "execution_count": 26,
      "outputs": [
        {
          "output_type": "stream",
          "text": [
            "The accuracy of KNN is:  0.0\n"
          ],
          "name": "stdout"
        }
      ]
    }
  ]
}